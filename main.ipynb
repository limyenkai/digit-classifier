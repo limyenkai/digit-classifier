{
 "cells": [
  {
   "cell_type": "code",
   "execution_count": 1,
   "metadata": {},
   "outputs": [],
   "source": [
    "from torchvision import datasets\n",
    "from torchvision.transforms import ToTensor"
   ]
  },
  {
   "cell_type": "code",
   "execution_count": 4,
   "metadata": {},
   "outputs": [
    {
     "name": "stdout",
     "output_type": "stream",
     "text": [
      "Downloading http://yann.lecun.com/exdb/mnist/train-images-idx3-ubyte.gz\n",
      "Downloading http://yann.lecun.com/exdb/mnist/train-images-idx3-ubyte.gz to data/MNIST/raw/train-images-idx3-ubyte.gz\n"
     ]
    },
    {
     "name": "stderr",
     "output_type": "stream",
     "text": [
      "100%|██████████| 9912422/9912422 [00:01<00:00, 7078663.89it/s]\n"
     ]
    },
    {
     "name": "stdout",
     "output_type": "stream",
     "text": [
      "Extracting data/MNIST/raw/train-images-idx3-ubyte.gz to data/MNIST/raw\n",
      "\n",
      "Downloading http://yann.lecun.com/exdb/mnist/train-labels-idx1-ubyte.gz\n",
      "Downloading http://yann.lecun.com/exdb/mnist/train-labels-idx1-ubyte.gz to data/MNIST/raw/train-labels-idx1-ubyte.gz\n"
     ]
    },
    {
     "name": "stderr",
     "output_type": "stream",
     "text": [
      "100%|██████████| 28881/28881 [00:00<00:00, 6704061.86it/s]"
     ]
    },
    {
     "name": "stdout",
     "output_type": "stream",
     "text": [
      "Extracting data/MNIST/raw/train-labels-idx1-ubyte.gz to data/MNIST/raw\n",
      "\n",
      "Downloading http://yann.lecun.com/exdb/mnist/t10k-images-idx3-ubyte.gz\n"
     ]
    },
    {
     "name": "stderr",
     "output_type": "stream",
     "text": [
      "\n"
     ]
    },
    {
     "name": "stdout",
     "output_type": "stream",
     "text": [
      "Downloading http://yann.lecun.com/exdb/mnist/t10k-images-idx3-ubyte.gz to data/MNIST/raw/t10k-images-idx3-ubyte.gz\n"
     ]
    },
    {
     "name": "stderr",
     "output_type": "stream",
     "text": [
      "100%|██████████| 1648877/1648877 [00:00<00:00, 2256640.21it/s]\n"
     ]
    },
    {
     "name": "stdout",
     "output_type": "stream",
     "text": [
      "Extracting data/MNIST/raw/t10k-images-idx3-ubyte.gz to data/MNIST/raw\n",
      "\n",
      "Downloading http://yann.lecun.com/exdb/mnist/t10k-labels-idx1-ubyte.gz\n",
      "Downloading http://yann.lecun.com/exdb/mnist/t10k-labels-idx1-ubyte.gz to data/MNIST/raw/t10k-labels-idx1-ubyte.gz\n"
     ]
    },
    {
     "name": "stderr",
     "output_type": "stream",
     "text": [
      "100%|██████████| 4542/4542 [00:00<00:00, 10444368.84it/s]"
     ]
    },
    {
     "name": "stdout",
     "output_type": "stream",
     "text": [
      "Extracting data/MNIST/raw/t10k-labels-idx1-ubyte.gz to data/MNIST/raw\n",
      "\n"
     ]
    },
    {
     "name": "stderr",
     "output_type": "stream",
     "text": [
      "\n"
     ]
    }
   ],
   "source": [
    "train_data = datasets.MNIST(\n",
    "    root = 'data',\n",
    "    train = True,\n",
    "    transform = ToTensor(),\n",
    "    download = True\n",
    ")\n",
    "\n",
    "test_data = datasets.MNIST(\n",
    "    root = 'data',\n",
    "    train = False,\n",
    "    transform = ToTensor(),\n",
    "    download = True\n",
    ")"
   ]
  },
  {
   "cell_type": "code",
   "execution_count": 9,
   "metadata": {},
   "outputs": [
    {
     "data": {
      "text/plain": [
       "torch.Size([60000, 28, 28])"
      ]
     },
     "execution_count": 9,
     "metadata": {},
     "output_type": "execute_result"
    }
   ],
   "source": [
    "train_data.data.shape"
   ]
  },
  {
   "cell_type": "code",
   "execution_count": 10,
   "metadata": {},
   "outputs": [
    {
     "data": {
      "text/plain": [
       "torch.Size([10000, 28, 28])"
      ]
     },
     "execution_count": 10,
     "metadata": {},
     "output_type": "execute_result"
    }
   ],
   "source": [
    "test_data.data.shape"
   ]
  },
  {
   "cell_type": "code",
   "execution_count": 12,
   "metadata": {},
   "outputs": [],
   "source": [
    "from torch.utils.data import DataLoader\n",
    "\n",
    "loaders = {\n",
    "    'train': DataLoader(train_data,\n",
    "                        batch_size = 100,\n",
    "                        shuffle = True,\n",
    "                        num_workers = 1),\n",
    "\n",
    "    'test': DataLoader(test_data,\n",
    "                       batch_size = 100,\n",
    "                       shuffle = True,\n",
    "                       num_workers = 1),\n",
    "}"
   ]
  },
  {
   "cell_type": "code",
   "execution_count": 13,
   "metadata": {},
   "outputs": [
    {
     "data": {
      "text/plain": [
       "{'train': <torch.utils.data.dataloader.DataLoader at 0x1660f01d0>,\n",
       " 'test': <torch.utils.data.dataloader.DataLoader at 0x16610cb90>}"
      ]
     },
     "execution_count": 13,
     "metadata": {},
     "output_type": "execute_result"
    }
   ],
   "source": [
    "loaders"
   ]
  },
  {
   "cell_type": "code",
   "execution_count": 14,
   "metadata": {},
   "outputs": [],
   "source": [
    "import torch.nn as nn\n",
    "import torch.nn.functional as F\n",
    "import torch.optim as optim\n",
    "\n",
    "class CNN(nn.Module):\n",
    "\n",
    "    def __init__(self):\n",
    "        super(CNN, self).__init__()\n",
    "\n",
    "        self.conv1 = nn.Conv2d(1, 10, kernel_size = 5)\n",
    "        self.conv2 = nn.Conv2d(10, 20, kernel_size = 5)\n",
    "        self.conv2_drop = nn.Dropout2d()\n",
    "        self.fc1 = nn.Linear(320, 50)\n",
    "        self.fc2 = nn.Linear(50, 10)\n",
    "\n",
    "    def forward(self, x):\n",
    "        x = F.relu(F.max_pool2d(self.conv1(x), 2))\n",
    "        x = F.relu(F.max_pool2d(self.conv2_drop(self.conv2(x)), 2))\n",
    "        x = x.view(-1, 320)\n",
    "        x = F.relu(self.fc1(x))\n",
    "        x = F.dropout(x, training = self.training)\n",
    "        x = self.fc2(x)\n",
    "\n",
    "        return F.softmax(x)"
   ]
  },
  {
   "cell_type": "code",
   "execution_count": 19,
   "metadata": {},
   "outputs": [],
   "source": [
    "import torch\n",
    "\n",
    "device = torch.device('cuda' if torch.cuda.is_available() else 'mps')\n",
    "\n",
    "model = CNN().to(device)\n",
    "\n",
    "optimizer = optim.Adam(model.parameters(), lr = 0.001)\n",
    "\n",
    "loss_fn = nn.CrossEntropyLoss()\n",
    "\n",
    "def train(epoch):\n",
    "    model.train()\n",
    "    for batch_idx, (data, target) in enumerate(loaders['train']):\n",
    "        data, target = data.to(device), target.to(device)\n",
    "        optimizer.zero_grad()               # zero out gradient\n",
    "        output = model(data)                # current state prediction\n",
    "        loss = loss_fn(output, target)      # calculate loss\n",
    "        loss.backward()                     # back propagate\n",
    "        optimizer.step()                    # do optimization step\n",
    "        if batch_idx % 20 == 0:\n",
    "            print(f'Train Epoch: {epoch} [{batch_idx * len(data)}/{len(loaders[\"train\"].dataset)} ({100. * batch_idx / len(loaders[\"train\"]):.0f}%)]\\t{loss.item():.6f}')\n",
    "\n",
    "def test():\n",
    "    model.eval()\n",
    "\n",
    "    test_loss = 0\n",
    "    correct = 0\n",
    "\n",
    "    with torch.no_grad():\n",
    "        for data, target in loaders['test']:\n",
    "            data, target = data.to(device), target.to(device)\n",
    "            output = model(data)\n",
    "            test_loss += loss_fn(output, target).item()\n",
    "            pred = output.argmax(dim = 1, keepdim = True)\n",
    "            correct += pred.eq(target.view_as(pred)).sum().item()\n",
    "\n",
    "    test_loss /= len(loaders['test'].dataset)\n",
    "    print(f'\\nTest set: Average loss: {test_loss:.4f}, Acuracy {correct}/{len(loaders[\"test\"].dataset)} ({100. * correct / len(loaders[\"test\"].dataset):.0f}%\\n)')"
   ]
  },
  {
   "cell_type": "code",
   "execution_count": 20,
   "metadata": {},
   "outputs": [
    {
     "name": "stderr",
     "output_type": "stream",
     "text": [
      "/var/folders/9j/p045mwns5lb5bvtrs9y0wsmr0000gn/T/ipykernel_86641/3258896293.py:24: UserWarning: Implicit dimension choice for softmax has been deprecated. Change the call to include dim=X as an argument.\n",
      "  return F.softmax(x)\n"
     ]
    },
    {
     "name": "stdout",
     "output_type": "stream",
     "text": [
      "Train Epoch: 1 [0/60000 (0%)]\t2.301087\n",
      "Train Epoch: 1 [2000/60000 (3%)]\t2.287134\n",
      "Train Epoch: 1 [4000/60000 (7%)]\t2.168145\n",
      "Train Epoch: 1 [6000/60000 (10%)]\t2.000355\n",
      "Train Epoch: 1 [8000/60000 (13%)]\t1.871526\n",
      "Train Epoch: 1 [10000/60000 (17%)]\t1.823664\n",
      "Train Epoch: 1 [12000/60000 (20%)]\t1.788606\n",
      "Train Epoch: 1 [14000/60000 (23%)]\t1.700025\n",
      "Train Epoch: 1 [16000/60000 (27%)]\t1.723778\n",
      "Train Epoch: 1 [18000/60000 (30%)]\t1.722751\n",
      "Train Epoch: 1 [20000/60000 (33%)]\t1.651446\n",
      "Train Epoch: 1 [22000/60000 (37%)]\t1.694723\n",
      "Train Epoch: 1 [24000/60000 (40%)]\t1.646409\n",
      "Train Epoch: 1 [26000/60000 (43%)]\t1.681827\n",
      "Train Epoch: 1 [28000/60000 (47%)]\t1.646635\n",
      "Train Epoch: 1 [30000/60000 (50%)]\t1.632847\n",
      "Train Epoch: 1 [32000/60000 (53%)]\t1.639745\n",
      "Train Epoch: 1 [34000/60000 (57%)]\t1.696465\n",
      "Train Epoch: 1 [36000/60000 (60%)]\t1.675544\n",
      "Train Epoch: 1 [38000/60000 (63%)]\t1.619191\n",
      "Train Epoch: 1 [40000/60000 (67%)]\t1.618278\n",
      "Train Epoch: 1 [42000/60000 (70%)]\t1.630680\n",
      "Train Epoch: 1 [44000/60000 (73%)]\t1.617680\n",
      "Train Epoch: 1 [46000/60000 (77%)]\t1.597166\n",
      "Train Epoch: 1 [48000/60000 (80%)]\t1.561379\n",
      "Train Epoch: 1 [50000/60000 (83%)]\t1.580350\n",
      "Train Epoch: 1 [52000/60000 (87%)]\t1.582813\n",
      "Train Epoch: 1 [54000/60000 (90%)]\t1.578901\n",
      "Train Epoch: 1 [56000/60000 (93%)]\t1.630547\n",
      "Train Epoch: 1 [58000/60000 (97%)]\t1.590959\n",
      "\n",
      "Test set: Average loss: 0.0153, Acuracy 9379/10000 (94%\n",
      ")\n",
      "Train Epoch: 2 [0/60000 (0%)]\t1.624883\n",
      "Train Epoch: 2 [2000/60000 (3%)]\t1.603407\n",
      "Train Epoch: 2 [4000/60000 (7%)]\t1.601750\n",
      "Train Epoch: 2 [6000/60000 (10%)]\t1.586020\n",
      "Train Epoch: 2 [8000/60000 (13%)]\t1.620211\n",
      "Train Epoch: 2 [10000/60000 (17%)]\t1.580505\n",
      "Train Epoch: 2 [12000/60000 (20%)]\t1.608950\n",
      "Train Epoch: 2 [14000/60000 (23%)]\t1.568101\n",
      "Train Epoch: 2 [16000/60000 (27%)]\t1.572609\n",
      "Train Epoch: 2 [18000/60000 (30%)]\t1.617747\n",
      "Train Epoch: 2 [20000/60000 (33%)]\t1.573018\n",
      "Train Epoch: 2 [22000/60000 (37%)]\t1.573691\n",
      "Train Epoch: 2 [24000/60000 (40%)]\t1.608578\n",
      "Train Epoch: 2 [26000/60000 (43%)]\t1.579959\n",
      "Train Epoch: 2 [28000/60000 (47%)]\t1.589054\n",
      "Train Epoch: 2 [30000/60000 (50%)]\t1.592730\n",
      "Train Epoch: 2 [32000/60000 (53%)]\t1.540798\n",
      "Train Epoch: 2 [34000/60000 (57%)]\t1.584643\n",
      "Train Epoch: 2 [36000/60000 (60%)]\t1.528436\n",
      "Train Epoch: 2 [38000/60000 (63%)]\t1.535359\n",
      "Train Epoch: 2 [40000/60000 (67%)]\t1.552668\n",
      "Train Epoch: 2 [42000/60000 (70%)]\t1.559925\n",
      "Train Epoch: 2 [44000/60000 (73%)]\t1.598386\n",
      "Train Epoch: 2 [46000/60000 (77%)]\t1.562496\n",
      "Train Epoch: 2 [48000/60000 (80%)]\t1.527819\n",
      "Train Epoch: 2 [50000/60000 (83%)]\t1.540542\n",
      "Train Epoch: 2 [52000/60000 (87%)]\t1.536721\n",
      "Train Epoch: 2 [54000/60000 (90%)]\t1.593834\n",
      "Train Epoch: 2 [56000/60000 (93%)]\t1.557937\n",
      "Train Epoch: 2 [58000/60000 (97%)]\t1.524832\n",
      "\n",
      "Test set: Average loss: 0.0151, Acuracy 9557/10000 (96%\n",
      ")\n",
      "Train Epoch: 3 [0/60000 (0%)]\t1.609219\n",
      "Train Epoch: 3 [2000/60000 (3%)]\t1.559002\n",
      "Train Epoch: 3 [4000/60000 (7%)]\t1.528324\n",
      "Train Epoch: 3 [6000/60000 (10%)]\t1.563183\n",
      "Train Epoch: 3 [8000/60000 (13%)]\t1.543012\n",
      "Train Epoch: 3 [10000/60000 (17%)]\t1.549993\n",
      "Train Epoch: 3 [12000/60000 (20%)]\t1.541033\n",
      "Train Epoch: 3 [14000/60000 (23%)]\t1.508502\n",
      "Train Epoch: 3 [16000/60000 (27%)]\t1.550240\n",
      "Train Epoch: 3 [18000/60000 (30%)]\t1.544798\n",
      "Train Epoch: 3 [20000/60000 (33%)]\t1.580708\n",
      "Train Epoch: 3 [22000/60000 (37%)]\t1.578305\n",
      "Train Epoch: 3 [24000/60000 (40%)]\t1.579271\n",
      "Train Epoch: 3 [26000/60000 (43%)]\t1.580147\n",
      "Train Epoch: 3 [28000/60000 (47%)]\t1.518521\n",
      "Train Epoch: 3 [30000/60000 (50%)]\t1.527641\n",
      "Train Epoch: 3 [32000/60000 (53%)]\t1.533747\n",
      "Train Epoch: 3 [34000/60000 (57%)]\t1.530695\n",
      "Train Epoch: 3 [36000/60000 (60%)]\t1.540882\n",
      "Train Epoch: 3 [38000/60000 (63%)]\t1.511885\n",
      "Train Epoch: 3 [40000/60000 (67%)]\t1.522463\n",
      "Train Epoch: 3 [42000/60000 (70%)]\t1.556346\n",
      "Train Epoch: 3 [44000/60000 (73%)]\t1.571037\n",
      "Train Epoch: 3 [46000/60000 (77%)]\t1.533347\n",
      "Train Epoch: 3 [48000/60000 (80%)]\t1.532314\n",
      "Train Epoch: 3 [50000/60000 (83%)]\t1.557141\n",
      "Train Epoch: 3 [52000/60000 (87%)]\t1.543001\n",
      "Train Epoch: 3 [54000/60000 (90%)]\t1.579063\n",
      "Train Epoch: 3 [56000/60000 (93%)]\t1.505229\n",
      "Train Epoch: 3 [58000/60000 (97%)]\t1.551547\n",
      "\n",
      "Test set: Average loss: 0.0150, Acuracy 9629/10000 (96%\n",
      ")\n",
      "Train Epoch: 4 [0/60000 (0%)]\t1.584427\n",
      "Train Epoch: 4 [2000/60000 (3%)]\t1.579570\n",
      "Train Epoch: 4 [4000/60000 (7%)]\t1.543640\n",
      "Train Epoch: 4 [6000/60000 (10%)]\t1.520316\n",
      "Train Epoch: 4 [8000/60000 (13%)]\t1.516851\n",
      "Train Epoch: 4 [10000/60000 (17%)]\t1.533305\n",
      "Train Epoch: 4 [12000/60000 (20%)]\t1.553930\n",
      "Train Epoch: 4 [14000/60000 (23%)]\t1.542979\n",
      "Train Epoch: 4 [16000/60000 (27%)]\t1.547021\n",
      "Train Epoch: 4 [18000/60000 (30%)]\t1.532860\n",
      "Train Epoch: 4 [20000/60000 (33%)]\t1.525223\n",
      "Train Epoch: 4 [22000/60000 (37%)]\t1.561734\n",
      "Train Epoch: 4 [24000/60000 (40%)]\t1.540589\n",
      "Train Epoch: 4 [26000/60000 (43%)]\t1.511070\n",
      "Train Epoch: 4 [28000/60000 (47%)]\t1.570563\n",
      "Train Epoch: 4 [30000/60000 (50%)]\t1.534082\n",
      "Train Epoch: 4 [32000/60000 (53%)]\t1.553839\n",
      "Train Epoch: 4 [34000/60000 (57%)]\t1.542432\n",
      "Train Epoch: 4 [36000/60000 (60%)]\t1.520936\n",
      "Train Epoch: 4 [38000/60000 (63%)]\t1.521213\n",
      "Train Epoch: 4 [40000/60000 (67%)]\t1.513147\n",
      "Train Epoch: 4 [42000/60000 (70%)]\t1.555950\n",
      "Train Epoch: 4 [44000/60000 (73%)]\t1.518895\n",
      "Train Epoch: 4 [46000/60000 (77%)]\t1.515213\n",
      "Train Epoch: 4 [48000/60000 (80%)]\t1.538033\n",
      "Train Epoch: 4 [50000/60000 (83%)]\t1.549804\n",
      "Train Epoch: 4 [52000/60000 (87%)]\t1.517349\n",
      "Train Epoch: 4 [54000/60000 (90%)]\t1.546812\n",
      "Train Epoch: 4 [56000/60000 (93%)]\t1.533289\n",
      "Train Epoch: 4 [58000/60000 (97%)]\t1.532428\n",
      "\n",
      "Test set: Average loss: 0.0149, Acuracy 9672/10000 (97%\n",
      ")\n",
      "Train Epoch: 5 [0/60000 (0%)]\t1.538049\n",
      "Train Epoch: 5 [2000/60000 (3%)]\t1.508981\n",
      "Train Epoch: 5 [4000/60000 (7%)]\t1.587367\n",
      "Train Epoch: 5 [6000/60000 (10%)]\t1.527862\n",
      "Train Epoch: 5 [8000/60000 (13%)]\t1.581837\n",
      "Train Epoch: 5 [10000/60000 (17%)]\t1.567913\n",
      "Train Epoch: 5 [12000/60000 (20%)]\t1.526515\n",
      "Train Epoch: 5 [14000/60000 (23%)]\t1.558047\n",
      "Train Epoch: 5 [16000/60000 (27%)]\t1.523955\n",
      "Train Epoch: 5 [18000/60000 (30%)]\t1.526613\n",
      "Train Epoch: 5 [20000/60000 (33%)]\t1.562989\n",
      "Train Epoch: 5 [22000/60000 (37%)]\t1.512316\n",
      "Train Epoch: 5 [24000/60000 (40%)]\t1.525186\n",
      "Train Epoch: 5 [26000/60000 (43%)]\t1.545211\n",
      "Train Epoch: 5 [28000/60000 (47%)]\t1.524134\n",
      "Train Epoch: 5 [30000/60000 (50%)]\t1.555249\n",
      "Train Epoch: 5 [32000/60000 (53%)]\t1.535048\n",
      "Train Epoch: 5 [34000/60000 (57%)]\t1.546987\n",
      "Train Epoch: 5 [36000/60000 (60%)]\t1.518558\n",
      "Train Epoch: 5 [38000/60000 (63%)]\t1.510814\n",
      "Train Epoch: 5 [40000/60000 (67%)]\t1.524380\n",
      "Train Epoch: 5 [42000/60000 (70%)]\t1.547265\n",
      "Train Epoch: 5 [44000/60000 (73%)]\t1.540036\n",
      "Train Epoch: 5 [46000/60000 (77%)]\t1.514846\n",
      "Train Epoch: 5 [48000/60000 (80%)]\t1.531699\n",
      "Train Epoch: 5 [50000/60000 (83%)]\t1.567185\n",
      "Train Epoch: 5 [52000/60000 (87%)]\t1.542046\n",
      "Train Epoch: 5 [54000/60000 (90%)]\t1.523650\n",
      "Train Epoch: 5 [56000/60000 (93%)]\t1.545478\n",
      "Train Epoch: 5 [58000/60000 (97%)]\t1.522070\n",
      "\n",
      "Test set: Average loss: 0.0149, Acuracy 9673/10000 (97%\n",
      ")\n",
      "Train Epoch: 6 [0/60000 (0%)]\t1.534729\n",
      "Train Epoch: 6 [2000/60000 (3%)]\t1.546823\n",
      "Train Epoch: 6 [4000/60000 (7%)]\t1.557966\n",
      "Train Epoch: 6 [6000/60000 (10%)]\t1.500877\n",
      "Train Epoch: 6 [8000/60000 (13%)]\t1.518891\n",
      "Train Epoch: 6 [10000/60000 (17%)]\t1.584752\n",
      "Train Epoch: 6 [12000/60000 (20%)]\t1.505307\n",
      "Train Epoch: 6 [14000/60000 (23%)]\t1.511762\n",
      "Train Epoch: 6 [16000/60000 (27%)]\t1.502026\n",
      "Train Epoch: 6 [18000/60000 (30%)]\t1.520033\n",
      "Train Epoch: 6 [20000/60000 (33%)]\t1.514646\n",
      "Train Epoch: 6 [22000/60000 (37%)]\t1.551422\n",
      "Train Epoch: 6 [24000/60000 (40%)]\t1.537215\n",
      "Train Epoch: 6 [26000/60000 (43%)]\t1.534064\n",
      "Train Epoch: 6 [28000/60000 (47%)]\t1.559545\n",
      "Train Epoch: 6 [30000/60000 (50%)]\t1.550769\n",
      "Train Epoch: 6 [32000/60000 (53%)]\t1.512275\n",
      "Train Epoch: 6 [34000/60000 (57%)]\t1.534163\n",
      "Train Epoch: 6 [36000/60000 (60%)]\t1.547111\n",
      "Train Epoch: 6 [38000/60000 (63%)]\t1.551602\n",
      "Train Epoch: 6 [40000/60000 (67%)]\t1.505943\n",
      "Train Epoch: 6 [42000/60000 (70%)]\t1.532101\n",
      "Train Epoch: 6 [44000/60000 (73%)]\t1.534760\n",
      "Train Epoch: 6 [46000/60000 (77%)]\t1.518488\n",
      "Train Epoch: 6 [48000/60000 (80%)]\t1.572487\n",
      "Train Epoch: 6 [50000/60000 (83%)]\t1.521598\n",
      "Train Epoch: 6 [52000/60000 (87%)]\t1.544860\n",
      "Train Epoch: 6 [54000/60000 (90%)]\t1.522941\n",
      "Train Epoch: 6 [56000/60000 (93%)]\t1.565732\n",
      "Train Epoch: 6 [58000/60000 (97%)]\t1.514235\n",
      "\n",
      "Test set: Average loss: 0.0149, Acuracy 9702/10000 (97%\n",
      ")\n",
      "Train Epoch: 7 [0/60000 (0%)]\t1.537631\n",
      "Train Epoch: 7 [2000/60000 (3%)]\t1.512252\n",
      "Train Epoch: 7 [4000/60000 (7%)]\t1.522133\n",
      "Train Epoch: 7 [6000/60000 (10%)]\t1.511333\n",
      "Train Epoch: 7 [8000/60000 (13%)]\t1.516626\n",
      "Train Epoch: 7 [10000/60000 (17%)]\t1.551610\n",
      "Train Epoch: 7 [12000/60000 (20%)]\t1.521746\n",
      "Train Epoch: 7 [14000/60000 (23%)]\t1.528271\n",
      "Train Epoch: 7 [16000/60000 (27%)]\t1.495685\n",
      "Train Epoch: 7 [18000/60000 (30%)]\t1.514843\n",
      "Train Epoch: 7 [20000/60000 (33%)]\t1.532107\n",
      "Train Epoch: 7 [22000/60000 (37%)]\t1.554955\n",
      "Train Epoch: 7 [24000/60000 (40%)]\t1.526051\n",
      "Train Epoch: 7 [26000/60000 (43%)]\t1.524054\n",
      "Train Epoch: 7 [28000/60000 (47%)]\t1.525615\n",
      "Train Epoch: 7 [30000/60000 (50%)]\t1.530117\n",
      "Train Epoch: 7 [32000/60000 (53%)]\t1.513605\n",
      "Train Epoch: 7 [34000/60000 (57%)]\t1.557679\n",
      "Train Epoch: 7 [36000/60000 (60%)]\t1.521285\n",
      "Train Epoch: 7 [38000/60000 (63%)]\t1.524814\n",
      "Train Epoch: 7 [40000/60000 (67%)]\t1.545267\n",
      "Train Epoch: 7 [42000/60000 (70%)]\t1.519663\n",
      "Train Epoch: 7 [44000/60000 (73%)]\t1.535793\n",
      "Train Epoch: 7 [46000/60000 (77%)]\t1.513683\n",
      "Train Epoch: 7 [48000/60000 (80%)]\t1.517424\n",
      "Train Epoch: 7 [50000/60000 (83%)]\t1.522839\n",
      "Train Epoch: 7 [52000/60000 (87%)]\t1.514410\n",
      "Train Epoch: 7 [54000/60000 (90%)]\t1.475193\n",
      "Train Epoch: 7 [56000/60000 (93%)]\t1.534791\n",
      "Train Epoch: 7 [58000/60000 (97%)]\t1.524571\n",
      "\n",
      "Test set: Average loss: 0.0149, Acuracy 9718/10000 (97%\n",
      ")\n",
      "Train Epoch: 8 [0/60000 (0%)]\t1.508228\n",
      "Train Epoch: 8 [2000/60000 (3%)]\t1.520643\n",
      "Train Epoch: 8 [4000/60000 (7%)]\t1.505616\n",
      "Train Epoch: 8 [6000/60000 (10%)]\t1.524334\n",
      "Train Epoch: 8 [8000/60000 (13%)]\t1.554775\n",
      "Train Epoch: 8 [10000/60000 (17%)]\t1.487142\n",
      "Train Epoch: 8 [12000/60000 (20%)]\t1.523490\n",
      "Train Epoch: 8 [14000/60000 (23%)]\t1.493321\n",
      "Train Epoch: 8 [16000/60000 (27%)]\t1.545631\n",
      "Train Epoch: 8 [18000/60000 (30%)]\t1.493823\n",
      "Train Epoch: 8 [20000/60000 (33%)]\t1.538962\n",
      "Train Epoch: 8 [22000/60000 (37%)]\t1.504566\n",
      "Train Epoch: 8 [24000/60000 (40%)]\t1.541851\n",
      "Train Epoch: 8 [26000/60000 (43%)]\t1.516159\n",
      "Train Epoch: 8 [28000/60000 (47%)]\t1.514438\n",
      "Train Epoch: 8 [30000/60000 (50%)]\t1.517812\n",
      "Train Epoch: 8 [32000/60000 (53%)]\t1.544411\n",
      "Train Epoch: 8 [34000/60000 (57%)]\t1.540689\n",
      "Train Epoch: 8 [36000/60000 (60%)]\t1.494567\n",
      "Train Epoch: 8 [38000/60000 (63%)]\t1.497457\n",
      "Train Epoch: 8 [40000/60000 (67%)]\t1.525789\n",
      "Train Epoch: 8 [42000/60000 (70%)]\t1.516061\n",
      "Train Epoch: 8 [44000/60000 (73%)]\t1.507494\n",
      "Train Epoch: 8 [46000/60000 (77%)]\t1.526588\n",
      "Train Epoch: 8 [48000/60000 (80%)]\t1.534414\n",
      "Train Epoch: 8 [50000/60000 (83%)]\t1.509026\n",
      "Train Epoch: 8 [52000/60000 (87%)]\t1.554286\n",
      "Train Epoch: 8 [54000/60000 (90%)]\t1.538876\n",
      "Train Epoch: 8 [56000/60000 (93%)]\t1.506079\n",
      "Train Epoch: 8 [58000/60000 (97%)]\t1.534524\n",
      "\n",
      "Test set: Average loss: 0.0149, Acuracy 9746/10000 (97%\n",
      ")\n",
      "Train Epoch: 9 [0/60000 (0%)]\t1.483840\n",
      "Train Epoch: 9 [2000/60000 (3%)]\t1.510158\n",
      "Train Epoch: 9 [4000/60000 (7%)]\t1.539565\n",
      "Train Epoch: 9 [6000/60000 (10%)]\t1.522798\n",
      "Train Epoch: 9 [8000/60000 (13%)]\t1.570652\n",
      "Train Epoch: 9 [10000/60000 (17%)]\t1.546647\n",
      "Train Epoch: 9 [12000/60000 (20%)]\t1.505262\n",
      "Train Epoch: 9 [14000/60000 (23%)]\t1.542948\n",
      "Train Epoch: 9 [16000/60000 (27%)]\t1.512798\n",
      "Train Epoch: 9 [18000/60000 (30%)]\t1.521001\n",
      "Train Epoch: 9 [20000/60000 (33%)]\t1.511841\n",
      "Train Epoch: 9 [22000/60000 (37%)]\t1.539569\n",
      "Train Epoch: 9 [24000/60000 (40%)]\t1.522107\n",
      "Train Epoch: 9 [26000/60000 (43%)]\t1.509179\n",
      "Train Epoch: 9 [28000/60000 (47%)]\t1.484836\n",
      "Train Epoch: 9 [30000/60000 (50%)]\t1.512219\n",
      "Train Epoch: 9 [32000/60000 (53%)]\t1.559211\n",
      "Train Epoch: 9 [34000/60000 (57%)]\t1.502197\n",
      "Train Epoch: 9 [36000/60000 (60%)]\t1.486075\n",
      "Train Epoch: 9 [38000/60000 (63%)]\t1.530643\n",
      "Train Epoch: 9 [40000/60000 (67%)]\t1.530048\n",
      "Train Epoch: 9 [42000/60000 (70%)]\t1.563081\n",
      "Train Epoch: 9 [44000/60000 (73%)]\t1.495036\n",
      "Train Epoch: 9 [46000/60000 (77%)]\t1.526926\n",
      "Train Epoch: 9 [48000/60000 (80%)]\t1.563061\n",
      "Train Epoch: 9 [50000/60000 (83%)]\t1.524922\n",
      "Train Epoch: 9 [52000/60000 (87%)]\t1.515553\n",
      "Train Epoch: 9 [54000/60000 (90%)]\t1.520759\n",
      "Train Epoch: 9 [56000/60000 (93%)]\t1.487127\n",
      "Train Epoch: 9 [58000/60000 (97%)]\t1.554371\n",
      "\n",
      "Test set: Average loss: 0.0149, Acuracy 9752/10000 (98%\n",
      ")\n",
      "Train Epoch: 10 [0/60000 (0%)]\t1.570014\n",
      "Train Epoch: 10 [2000/60000 (3%)]\t1.493752\n",
      "Train Epoch: 10 [4000/60000 (7%)]\t1.509420\n",
      "Train Epoch: 10 [6000/60000 (10%)]\t1.529340\n",
      "Train Epoch: 10 [8000/60000 (13%)]\t1.493041\n",
      "Train Epoch: 10 [10000/60000 (17%)]\t1.524850\n",
      "Train Epoch: 10 [12000/60000 (20%)]\t1.516303\n",
      "Train Epoch: 10 [14000/60000 (23%)]\t1.523551\n",
      "Train Epoch: 10 [16000/60000 (27%)]\t1.547744\n",
      "Train Epoch: 10 [18000/60000 (30%)]\t1.475793\n",
      "Train Epoch: 10 [20000/60000 (33%)]\t1.562501\n",
      "Train Epoch: 10 [22000/60000 (37%)]\t1.500326\n",
      "Train Epoch: 10 [24000/60000 (40%)]\t1.500568\n",
      "Train Epoch: 10 [26000/60000 (43%)]\t1.537196\n",
      "Train Epoch: 10 [28000/60000 (47%)]\t1.504270\n",
      "Train Epoch: 10 [30000/60000 (50%)]\t1.542018\n",
      "Train Epoch: 10 [32000/60000 (53%)]\t1.541572\n",
      "Train Epoch: 10 [34000/60000 (57%)]\t1.492072\n",
      "Train Epoch: 10 [36000/60000 (60%)]\t1.528027\n",
      "Train Epoch: 10 [38000/60000 (63%)]\t1.510181\n",
      "Train Epoch: 10 [40000/60000 (67%)]\t1.523475\n",
      "Train Epoch: 10 [42000/60000 (70%)]\t1.545244\n",
      "Train Epoch: 10 [44000/60000 (73%)]\t1.531162\n",
      "Train Epoch: 10 [46000/60000 (77%)]\t1.523617\n",
      "Train Epoch: 10 [48000/60000 (80%)]\t1.552878\n",
      "Train Epoch: 10 [50000/60000 (83%)]\t1.517140\n",
      "Train Epoch: 10 [52000/60000 (87%)]\t1.491756\n",
      "Train Epoch: 10 [54000/60000 (90%)]\t1.516250\n",
      "Train Epoch: 10 [56000/60000 (93%)]\t1.552953\n",
      "Train Epoch: 10 [58000/60000 (97%)]\t1.535988\n",
      "\n",
      "Test set: Average loss: 0.0148, Acuracy 9770/10000 (98%\n",
      ")\n"
     ]
    }
   ],
   "source": [
    "for epoch in range(1,11):\n",
    "    train(epoch)\n",
    "    test()"
   ]
  },
  {
   "cell_type": "code",
   "execution_count": 25,
   "metadata": {},
   "outputs": [
    {
     "name": "stdout",
     "output_type": "stream",
     "text": [
      "Prediction: 0\n"
     ]
    },
    {
     "name": "stderr",
     "output_type": "stream",
     "text": [
      "/var/folders/9j/p045mwns5lb5bvtrs9y0wsmr0000gn/T/ipykernel_86641/3258896293.py:24: UserWarning: Implicit dimension choice for softmax has been deprecated. Change the call to include dim=X as an argument.\n",
      "  return F.softmax(x)\n"
     ]
    },
    {
     "data": {
      "image/png": "[encoded data removed]",
      "text/plain": [
       "<Figure size 640x480 with 1 Axes>"
      ]
     },
     "metadata": {},
     "output_type": "display_data"
    }
   ],
   "source": [
    "import matplotlib.pyplot as plt\n",
    "\n",
    "model.eval()\n",
    "\n",
    "data, target = test_data[3]\n",
    "\n",
    "data = data.unsqueeze(0).to(device)\n",
    "\n",
    "output = model(data)\n",
    "\n",
    "prediction = output.argmax(dim = 1, keepdim = True).item()\n",
    "\n",
    "print(f'Prediction: {prediction}')\n",
    "\n",
    "image = data.squeeze(0).squeeze(0).cpu().numpy()\n",
    "\n",
    "plt.imshow(image, cmap='gray')\n",
    "\n",
    "plt.show()"
   ]
  },
  {
   "cell_type": "code",
   "execution_count": null,
   "metadata": {},
   "outputs": [],
   "source": []
  }
 ],
 "metadata": {
  "kernelspec": {
   "display_name": "ml",
   "language": "python",
   "name": "python3"
  },
  "language_info": {
   "codemirror_mode": {
    "name": "ipython",
    "version": 3
   },
   "file_extension": ".py",
   "mimetype": "text/x-python",
   "name": "python",
   "nbconvert_exporter": "python",
   "pygments_lexer": "ipython3",
   "version": "3.11.5"
  }
 },
 "nbformat": 4,
 "nbformat_minor": 2
}
